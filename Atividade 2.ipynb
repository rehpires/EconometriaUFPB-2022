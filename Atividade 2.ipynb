{
 "cells": [
  {
   "cell_type": "code",
   "execution_count": 1,
   "id": "8e95fc94",
   "metadata": {},
   "outputs": [],
   "source": [
    "import numpy as np\n",
    "import datetime\n",
    "import statistics #Pacote básico de estatisticas do Python\n",
    "from scipy import stats # facilita a obtenção das medidas, dado que é um pacote grande\n",
    "import pandas as pd\n",
    "import matplotlib.pyplot as plt\n",
    "import matplotlib.dates as mdates # organiza as datas no df\n",
    "import seaborn as sns"
   ]
  },
  {
   "cell_type": "code",
   "execution_count": 2,
   "id": "8e0fcedc",
   "metadata": {},
   "outputs": [],
   "source": [
    "df = pd.read_excel(\"IPCA - %a.m..xlsx\", engine=\"openpyxl\")\n",
    "df2 = pd.read_excel(\"IPCA - 12 meses (%a.m.).xlsx\", engine=\"openpyxl\")\n",
    "df3 = pd.read_excel(\"PIB Ac. 12 meses - R$ mi.xlsx\", engine=\"openpyxl\")"
   ]
  },
  {
   "cell_type": "code",
   "execution_count": 3,
   "id": "bc1f0bd7",
   "metadata": {},
   "outputs": [],
   "source": [
    "df = df.merge(df2, on = \"Data\") \\\n",
    "                    .merge(df3, on = \"Data\")"
   ]
  },
  {
   "cell_type": "code",
   "execution_count": 4,
   "id": "f8a10adf",
   "metadata": {
    "pycharm": {
     "name": "#%%\n"
    }
   },
   "outputs": [
    {
     "data": {
      "text/html": [
       "<div>\n",
       "<style scoped>\n",
       "    .dataframe tbody tr th:only-of-type {\n",
       "        vertical-align: middle;\n",
       "    }\n",
       "\n",
       "    .dataframe tbody tr th {\n",
       "        vertical-align: top;\n",
       "    }\n",
       "\n",
       "    .dataframe thead th {\n",
       "        text-align: right;\n",
       "    }\n",
       "</style>\n",
       "<table border=\"1\" class=\"dataframe\">\n",
       "  <thead>\n",
       "    <tr style=\"text-align: right;\">\n",
       "      <th></th>\n",
       "      <th>Data</th>\n",
       "      <th>IPCA - %a.m.</th>\n",
       "      <th>IPCA - 12 meses (%a.m.)</th>\n",
       "      <th>PIB Ac. 12 meses - R$ mi</th>\n",
       "    </tr>\n",
       "  </thead>\n",
       "  <tbody>\n",
       "    <tr>\n",
       "      <th>0</th>\n",
       "      <td>2003-01-01</td>\n",
       "      <td>2.25</td>\n",
       "      <td>14.47</td>\n",
       "      <td>1502123.5</td>\n",
       "    </tr>\n",
       "    <tr>\n",
       "      <th>1</th>\n",
       "      <td>2003-02-01</td>\n",
       "      <td>1.57</td>\n",
       "      <td>15.85</td>\n",
       "      <td>1522029.5</td>\n",
       "    </tr>\n",
       "    <tr>\n",
       "      <th>2</th>\n",
       "      <td>2003-03-01</td>\n",
       "      <td>1.23</td>\n",
       "      <td>16.57</td>\n",
       "      <td>1543732.2</td>\n",
       "    </tr>\n",
       "    <tr>\n",
       "      <th>3</th>\n",
       "      <td>2003-04-01</td>\n",
       "      <td>0.97</td>\n",
       "      <td>16.77</td>\n",
       "      <td>1564349.5</td>\n",
       "    </tr>\n",
       "    <tr>\n",
       "      <th>4</th>\n",
       "      <td>2003-05-01</td>\n",
       "      <td>0.61</td>\n",
       "      <td>17.24</td>\n",
       "      <td>1580855.1</td>\n",
       "    </tr>\n",
       "  </tbody>\n",
       "</table>\n",
       "</div>"
      ],
      "text/plain": [
       "        Data  IPCA - %a.m.  IPCA - 12 meses (%a.m.)  PIB Ac. 12 meses - R$ mi\n",
       "0 2003-01-01          2.25                    14.47                 1502123.5\n",
       "1 2003-02-01          1.57                    15.85                 1522029.5\n",
       "2 2003-03-01          1.23                    16.57                 1543732.2\n",
       "3 2003-04-01          0.97                    16.77                 1564349.5\n",
       "4 2003-05-01          0.61                    17.24                 1580855.1"
      ]
     },
     "execution_count": 4,
     "metadata": {},
     "output_type": "execute_result"
    }
   ],
   "source": [
    "df.head()"
   ]
  },
  {
   "cell_type": "code",
   "execution_count": 5,
   "id": "3761a3b5",
   "metadata": {},
   "outputs": [],
   "source": [
    "data = pd.date_range(\"2003-01-01\", periods = 227, freq = \"MS\")\n",
    "ipca = df[\"IPCA - %a.m.\"]\n",
    "ipca12 = df[\"IPCA - 12 meses (%a.m.)\"]\n",
    "pib = df[\"PIB Ac. 12 meses - R$ mi\"]"
   ]
  },
  {
   "cell_type": "code",
   "execution_count": 6,
   "id": "311d2f97",
   "metadata": {
    "pycharm": {
     "name": "#%%\n"
    }
   },
   "outputs": [],
   "source": [
    "#Função para definir a distribuição de frequência, prequel para o histograma\n",
    "def ac(x) :\n",
    "    at = max(x) - min(x)\n",
    "    k = round(np.sqrt(pd.Series.count(x)))\n",
    "    h = round(at/k,2)\n",
    "\n",
    "    return \"Amplitude total = \" + str(at),\"N. de classes = \" + str(k), \"Amplitude de classes = \" + str(h)\n",
    "\n",
    "\n",
    "#storage em variáveis para evitar problemas com a reutilização da função\n",
    "freq_ipca = ac(ipca)\n",
    "freq_pib = ac(pib)"
   ]
  },
  {
   "cell_type": "code",
   "execution_count": 7,
   "id": "6e66615b",
   "metadata": {
    "pycharm": {
     "name": "#%%\n"
    }
   },
   "outputs": [
    {
     "name": "stdout",
     "output_type": "stream",
     "text": [
      "('Amplitude total = 2.63', 'N. de classes = 15', 'Amplitude de classes = 0.18') \n",
      "\n"
     ]
    },
    {
     "data": {
      "text/plain": [
       "Text(0.5, 1.0, 'Histograma e frequencia do IPCA')"
      ]
     },
     "execution_count": 7,
     "metadata": {},
     "output_type": "execute_result"
    },
    {
     "data": {
      "image/png": "[encoded data removed]",
      "text/plain": [
       "<Figure size 432x288 with 1 Axes>"
      ]
     },
     "metadata": {
      "needs_background": "light"
     },
     "output_type": "display_data"
    }
   ],
   "source": [
    "#Disposição dos histogramas com as distribuições, desconsiderando o ipca acumulado por ser uma variável acumulada\n",
    "print(freq_ipca, \"\\n\")\n",
    "\n",
    "k = round(np.sqrt(pd.Series.count(ipca))) #selecionar a variável de interesse antes de rodar o gráfico\n",
    "\n",
    "sns.histplot(x=ipca,\n",
    "             kde=True,\n",
    "             legend=True,\n",
    "             bins=k,\n",
    "             stat=\"percent\").set_title(\"Histograma e frequencia do IPCA\")"
   ]
  },
  {
   "cell_type": "code",
   "execution_count": 8,
   "id": "caf58d33",
   "metadata": {
    "pycharm": {
     "name": "#%%\n"
    }
   },
   "outputs": [
    {
     "name": "stdout",
     "output_type": "stream",
     "text": [
      "('Amplitude total = 2.63', 'N. de classes = 15', 'Amplitude de classes = 0.18') \n",
      "\n"
     ]
    },
    {
     "data": {
      "text/plain": [
       "Text(0.5, 1.0, 'Histograma e frequencia do PIB')"
      ]
     },
     "execution_count": 8,
     "metadata": {},
     "output_type": "execute_result"
    },
    {
     "data": {
      "image/png": "[encoded data removed]",
      "text/plain": [
       "<Figure size 432x288 with 1 Axes>"
      ]
     },
     "metadata": {
      "needs_background": "light"
     },
     "output_type": "display_data"
    }
   ],
   "source": [
    "#Disposição dos histogramas com as distribuições, desconsiderando o ipca acumulado por ser uma variável acumulada\n",
    "print(freq_ipca, \"\\n\")\n",
    "\n",
    "k = round(np.sqrt(pd.Series.count(pib)))\n",
    "sns.histplot(x=pib,\n",
    "             kde=True,\n",
    "             legend=True,\n",
    "             bins=k,\n",
    "             stat=\"percent\").set_title(\"Histograma e frequencia do PIB\")"
   ]
  },
  {
   "cell_type": "code",
   "execution_count": 9,
   "id": "ece05e9e",
   "metadata": {},
   "outputs": [
    {
     "data": {
      "text/plain": [
       "Text(0.5, 1.0, 'IPCA - (%a.m.)')"
      ]
     },
     "execution_count": 9,
     "metadata": {},
     "output_type": "execute_result"
    },
    {
     "data": {
      "image/png": "[encoded data removed]",
      "text/plain": [
       "<Figure size 432x288 with 1 Axes>"
      ]
     },
     "metadata": {
      "needs_background": "light"
     },
     "output_type": "display_data"
    }
   ],
   "source": [
    "fig, ax = plt.subplots()\n",
    "\n",
    "ax.plot(data,ipca[1:228], linewidth = 1.5)\n",
    "ax.set(ylim=(-0.5, 2.0))\n",
    "ax.xaxis.set_major_locator(mdates.YearLocator(base=2))\n",
    "fig.autofmt_xdate()\n",
    "ax.set_title('IPCA - (%a.m.)')"
   ]
  },
  {
   "cell_type": "code",
   "execution_count": 10,
   "id": "e73695b4",
   "metadata": {},
   "outputs": [
    {
     "data": {
      "text/plain": [
       "Text(0.5, 1.0, 'IPCA Acumulada - (%a.a.)')"
      ]
     },
     "execution_count": 10,
     "metadata": {},
     "output_type": "execute_result"
    },
    {
     "data": {
      "image/png": "[encoded data removed]",
      "text/plain": [
       "<Figure size 432x288 with 1 Axes>"
      ]
     },
     "metadata": {
      "needs_background": "light"
     },
     "output_type": "display_data"
    }
   ],
   "source": [
    "fig, ax = plt.subplots()\n",
    "\n",
    "ax.plot(data,ipca12[1:228], linewidth = 1.5)\n",
    "ax.set(ylim=(0.0, 20))\n",
    "ax.xaxis.set_major_locator(mdates.YearLocator(base=2))\n",
    "fig.autofmt_xdate()\n",
    "ax.set_title('IPCA Acumulada - (%a.a.)')"
   ]
  },
  {
   "cell_type": "code",
   "execution_count": 11,
   "id": "c55db8be",
   "metadata": {},
   "outputs": [
    {
     "data": {
      "text/plain": [
       "Text(0.5, 1.0, 'Evolução PIB - 2003 a 2022 em R$ trilhoes')"
      ]
     },
     "execution_count": 11,
     "metadata": {},
     "output_type": "execute_result"
    },
    {
     "data": {
      "image/png": "[encoded data removed]",
      "text/plain": [
       "<Figure size 432x288 with 1 Axes>"
      ]
     },
     "metadata": {
      "needs_background": "light"
     },
     "output_type": "display_data"
    }
   ],
   "source": [
    "fig, ax = plt.subplots()\n",
    "\n",
    "ax.plot(data,pib[1:228], linewidth = 1.5)\n",
    "ax.xaxis.set_major_locator(mdates.YearLocator(base=2))\n",
    "fig.autofmt_xdate()\n",
    "ax.set_title(\"Evolução PIB - 2003 a 2022 em R$ trilhoes\")"
   ]
  },
  {
   "cell_type": "code",
   "execution_count": 12,
   "id": "5053d5d3",
   "metadata": {},
   "outputs": [
    {
     "name": "stdout",
     "output_type": "stream",
     "text": [
      "Média geométrica: 4110397.85\n",
      "Mediana: 4606582.65\n",
      "Erro Padrão da Média: 135512.64172720484\n",
      "Variancia: 4186918143477.958\n",
      "Assimetria: 0.08226865237762636\n",
      "\n",
      "\n"
     ]
    },
    {
     "data": {
      "text/plain": [
       "count        228.00\n",
       "mean     4612423.49\n",
       "std      2046196.02\n",
       "min      1502123.50\n",
       "25%      2669264.58\n",
       "50%      4606582.65\n",
       "75%      6359105.98\n",
       "max      8674463.10\n",
       "Name: PIB Ac. 12 meses - R$ mi, dtype: float64"
      ]
     },
     "execution_count": 12,
     "metadata": {},
     "output_type": "execute_result"
    }
   ],
   "source": [
    "pib_desc = pib.describe() # Por ser uma função, não houve forma de traduzir as variáveis.\n",
    "gmean_pib = \"Média geométrica: \" + str(round(statistics.geometric_mean(pib),2))\n",
    "median_pib = \"Mediana: \" + str(statistics.median(pib))\n",
    "var_pib = \"Variancia: \" + str(statistics.variance(pib))\n",
    "ermed_pib = \"Erro Padrão da Média: \" + str(stats.mstats.sem(pib))\n",
    "assim_pib = \"Assimetria: \" + str(stats.skew(pib)) # onde se concentra o peso maior da distribuição\n",
    "\n",
    "# Teste de JARQUE-BERA, usando função de resposta para o resultado do teste.\n",
    "\n",
    "print(gmean_pib + \"\\n\" + median_pib + \"\\n\" + ermed_pib + \"\\n\" + var_pib + \"\\n\" + assim_pib)\n",
    "print(\"\\n\")\n",
    "\n",
    "# Apresentando os resultados obtidos\n",
    "round(pib_desc,2)"
   ]
  },
  {
   "cell_type": "code",
   "execution_count": 13,
   "id": "2a0f17c0",
   "metadata": {
    "pycharm": {
     "name": "#%%\n"
    }
   },
   "outputs": [
    {
     "name": "stdout",
     "output_type": "stream",
     "text": [
      "Curtose = -1.313, Platicurtica – A distribuiçao é achatada (alta variabilidade)\n",
      "\n",
      "\n",
      "Teste de Jarque-Bera\n",
      "Estatistica = 16.643, p-valor = 0.000\n",
      "A amostra não apresenta distribuição normal (Sucesso em rejeitar H0)\n",
      "\n",
      "Teste de Shapiro\n",
      "Estatistica = 0.937, p-valor = 0.000\n",
      "A amostra não apresenta distribuição normal (Sucesso em rejeitar H0)\n"
     ]
    }
   ],
   "source": [
    "curtose_pib = stats.kurtosis(pib) #plotável, mas optei por não poluir mais o código\n",
    "base = 3\n",
    "if curtose_pib == base :\n",
    "        print(\"Curtose = %.3f,\" % curtose_pib + \" Mesocurtica – A distribuiçao de frequências e a propria distribuição normal\")\n",
    "elif curtose_pib > 3 :\n",
    "        print(\"Curtose = %.3f,\" % curtose_pib + \" Leptocurtica – A distribuiçao é concentrada em torno da média (alta homogeneidade)\")\n",
    "else:\n",
    "         print(\"Curtose = %.3f,\" % curtose_pib + \" Platicurtica – A distribuiçao é achatada (alta variabilidade)\")\n",
    "\n",
    "print(\"\\n\")\n",
    "\n",
    "# Teste de JARQUE-BERA, usando função de resposta para o resultado do teste.\n",
    "# Teste de normalidade dos dados\n",
    "print(\"Teste de Jarque-Bera\")\n",
    "stat, p = stats.jarque_bera(pib)\n",
    "print('Estatistica = %.3f, p-valor = %.3f' % (stat, p))\n",
    "\n",
    "alpha = 0.05\n",
    "if p > alpha:\n",
    "    print(\"A amostra apresenta distribuição normal (Falha em rejeitar H0)\")\n",
    "else:\n",
    "    print(\"A amostra não apresenta distribuição normal (Sucesso em rejeitar H0)\")\n",
    "\n",
    "print(\"\\n\"+\"Teste de Shapiro\")\n",
    "stat,p = stats.shapiro(pib)\n",
    "\n",
    "print('Estatistica = %.3f, p-valor = %.3f' % (stat, p))\n",
    "alpha = 0.05\n",
    "if p > alpha:\n",
    "    print(\"A amostra apresenta distribuição normal (Falha em rejeitar H0)\")\n",
    "else:\n",
    "    print(\"A amostra não apresenta distribuição normal (Sucesso em rejeitar H0)\")"
   ]
  },
  {
   "cell_type": "markdown",
   "id": "f101f74f",
   "metadata": {},
   "source": []
  },
  {
   "cell_type": "code",
   "execution_count": 14,
   "id": "5b2bdd1a",
   "metadata": {},
   "outputs": [
    {
     "name": "stdout",
     "output_type": "stream",
     "text": [
      "Mediana: 0.445\n",
      "Erro Padrão da Média: 0.02255\n",
      "Variancia: 0.11594\n",
      "Assimetria: 0.93848\n",
      "\n",
      "\n"
     ]
    },
    {
     "data": {
      "text/plain": [
       "count    228.000\n",
       "mean       0.484\n",
       "std        0.340\n",
       "min       -0.380\n",
       "25%        0.260\n",
       "50%        0.445\n",
       "75%        0.675\n",
       "max        2.250\n",
       "Name: IPCA - %a.m., dtype: float64"
      ]
     },
     "execution_count": 14,
     "metadata": {},
     "output_type": "execute_result"
    }
   ],
   "source": [
    "ipca_desc = ipca.describe() # Por ser uma função, não houve forma de traduzir as variáveis.\n",
    "median_ipca = \"Mediana: \" + str(statistics.median(ipca))\n",
    "var_ipca = \"Variancia: \" + str(round(statistics.variance(ipca),5))\n",
    "ermed_ipca = \"Erro Padrão da Média: \" + str(round(stats.mstats.sem(ipca),5))\n",
    "assim_ipca = \"Assimetria: \" + str(round(stats.skew(ipca),5)) # onde se concentra o peso maior da distribuição\n",
    "\n",
    "\n",
    "print(median_ipca + \"\\n\" + ermed_ipca + \"\\n\" + var_ipca + \"\\n\" + assim_ipca)\n",
    "print(\"\\n\")\n",
    "\n",
    "# Apresentando os resultados obtidos\n",
    "round(ipca_desc,3)"
   ]
  },
  {
   "cell_type": "code",
   "execution_count": 15,
   "id": "bab12504",
   "metadata": {
    "pycharm": {
     "name": "#%%\n"
    }
   },
   "outputs": [
    {
     "name": "stdout",
     "output_type": "stream",
     "text": [
      "Curtose = 3.008, Platicurtica – A distribuiçao é achatada (alta variabilidade)\n",
      "\n",
      "\n",
      "Teste de Jarque-Bera\n",
      "Estatistica = 119.420, p-valor = 0.000\n",
      "A amostra não apresenta distribuição normal (Sucesso em rejeitar H0)\n",
      "\n",
      "Teste de Shapiro\n",
      "Estatistica = 0.954, p-valor = 0.000\n",
      "A amostra não apresenta distribuição normal (Sucesso em rejeitar H0)\n"
     ]
    }
   ],
   "source": [
    "curtose_ipca = stats.kurtosis(ipca) #plotável, mas optei por não poluir mais o código\n",
    "base = 3\n",
    "if curtose_ipca == base :\n",
    "    print(\"Curtose = %.3f,\" % curtose_ipca + \" Mesocurtica – A distribuiçao de frequências e a propria distribuição normal\")\n",
    "elif curtose_pib > 3 :\n",
    "    print(\"Curtose = %.3f,\" % curtose_ipca + \" Leptocurtica – A distribuiçao é concentrada em torno da média (alta homogeneidade)\")\n",
    "else:\n",
    "    print(\"Curtose = %.3f,\" % curtose_ipca + \" Platicurtica – A distribuiçao é achatada (alta variabilidade)\")\n",
    "\n",
    "print(\"\\n\")\n",
    "\n",
    "# Teste de JARQUE-BERA, usando função de resposta para o resultado do teste.\n",
    "# Teste de normalidade dos dados\n",
    "print(\"Teste de Jarque-Bera\")\n",
    "stat, p = stats.jarque_bera(ipca)\n",
    "print('Estatistica = %.3f, p-valor = %.3f' % (stat, p))\n",
    "\n",
    "alpha = 0.05\n",
    "if p > alpha:\n",
    "    print(\"A amostra apresenta distribuição normal (Falha em rejeitar H0)\")\n",
    "else:\n",
    "    print(\"A amostra não apresenta distribuição normal (Sucesso em rejeitar H0)\")\n",
    "\n",
    "print(\"\\n\"+\"Teste de Shapiro\")\n",
    "stat,p = stats.shapiro(ipca)\n",
    "\n",
    "print('Estatistica = %.3f, p-valor = %.3f' % (stat, p))\n",
    "alpha = 0.05\n",
    "if p > alpha:\n",
    "    print(\"A amostra apresenta distribuição normal (Falha em rejeitar H0)\")\n",
    "else:\n",
    "    print(\"A amostra não apresenta distribuição normal (Sucesso em rejeitar H0)\")"
   ]
  },
  {
   "cell_type": "code",
   "execution_count": 16,
   "id": "d2c88744",
   "metadata": {
    "scrolled": true
   },
   "outputs": [
    {
     "name": "stdout",
     "output_type": "stream",
     "text": [
      "Média geométrica: 5.58282\n",
      "Mediana: 5.735\n",
      "Erro Padrão da Média: 0.18999\n",
      "Variancia: 8.23034\n",
      "Assimetria: 1.65976\n",
      "\n",
      "\n"
     ]
    },
    {
     "data": {
      "text/plain": [
       "count    228.000\n",
       "mean       6.127\n",
       "std        2.869\n",
       "min        1.880\n",
       "25%        4.310\n",
       "50%        5.735\n",
       "75%        6.863\n",
       "max       17.240\n",
       "Name: IPCA - 12 meses (%a.m.), dtype: float64"
      ]
     },
     "execution_count": 16,
     "metadata": {},
     "output_type": "execute_result"
    }
   ],
   "source": [
    "ipca_desc12 = ipca12.describe() # Por ser uma função, não houve forma de traduzir as variáveis.\n",
    "gmean_ipca12 = \"Média geométrica: \" + str(round(statistics.geometric_mean(ipca12),5))\n",
    "median_ipca12 = \"Mediana: \" + str(round(statistics.median(ipca12),5))\n",
    "var_ipca12 = \"Variancia: \" + str(round(statistics.variance(ipca12),5))\n",
    "ermed_ipca12 = \"Erro Padrão da Média: \" + str(round(stats.mstats.sem(ipca12),5))\n",
    "assim_ipca12 = \"Assimetria: \" + str(round(stats.skew(ipca12),5)) # onde se concentra o peso maior da distribuição\n",
    "\n",
    "print(gmean_ipca12 + \"\\n\" + median_ipca12 + \"\\n\" + ermed_ipca12 + \"\\n\" + var_ipca12 + \"\\n\" + assim_ipca12)\n",
    "print(\"\\n\")\n",
    "\n",
    "# Apresentando os resultados obtidos\n",
    "round(ipca_desc12,3)"
   ]
  },
  {
   "cell_type": "code",
   "execution_count": 17,
   "id": "3930db9a",
   "metadata": {
    "pycharm": {
     "name": "#%%\n"
    }
   },
   "outputs": [
    {
     "name": "stdout",
     "output_type": "stream",
     "text": [
      "Curtose = 3.528, Platicurtica – A distribuiçao é achatada (alta variabilidade)\n",
      "\n",
      "\n",
      "Teste de Jarque-Bera\n",
      "Estatistica = 222.925, p-valor = 0.000\n",
      "A amostra não apresenta distribuição normal (Sucesso em rejeitar H0)\n",
      "\n",
      "Teste de Shapiro\n",
      "Estatistica = 0.860, p-valor = 0.000\n",
      "A amostra não apresenta distribuição normal (Sucesso em rejeitar H0)\n"
     ]
    }
   ],
   "source": [
    "curtose_ipca12 = stats.kurtosis(ipca12) #plotável, mas optei por não poluir mais o código\n",
    "base = 3\n",
    "if curtose_ipca12 == base :\n",
    "    print(\"Curtose = %.3f,\" % curtose_ipca12 + \" Mesocurtica – A distribuiçao de frequências e a propria distribuição normal\")\n",
    "elif curtose_pib > 3 :\n",
    "    print(\"Curtose = %.3f,\" % curtose_ipca12 + \" Leptocurtica – A distribuiçao é concentrada em torno da média (alta homogeneidade)\")\n",
    "else:\n",
    "    print(\"Curtose = %.3f,\" % curtose_ipca12 + \" Platicurtica – A distribuiçao é achatada (alta variabilidade)\")\n",
    "\n",
    "print(\"\\n\")\n",
    "# Teste de JARQUE-BERA, usando função de resposta para o resultado do teste.\n",
    "# Teste de normalidade dos dados, mas não há dados o suficiente para sua consideração\n",
    "\n",
    "print(\"Teste de Jarque-Bera\")\n",
    "stat, p = stats.jarque_bera(ipca12)\n",
    "print('Estatistica = %.3f, p-valor = %.3f' % (stat, p))\n",
    "\n",
    "alpha = 0.05\n",
    "if p > alpha:\n",
    "    print(\"A amostra apresenta distribuição normal (Falha em rejeitar H0)\")\n",
    "else:\n",
    "    print(\"A amostra não apresenta distribuição normal (Sucesso em rejeitar H0)\")\n",
    "\n",
    "print(\"\\n\"+\"Teste de Shapiro\")\n",
    "stat,p = stats.shapiro(ipca12)\n",
    "\n",
    "print('Estatistica = %.3f, p-valor = %.3f' % (stat, p))\n",
    "alpha = 0.05\n",
    "if p > alpha:\n",
    "    print(\"A amostra apresenta distribuição normal (Falha em rejeitar H0)\")\n",
    "else:\n",
    "    print(\"A amostra não apresenta distribuição normal (Sucesso em rejeitar H0)\")"
   ]
  },
  {
   "cell_type": "code",
   "execution_count": 18,
   "id": "ff6c522a",
   "metadata": {
    "pycharm": {
     "name": "#%%\n"
    }
   },
   "outputs": [],
   "source": [
    "# Deflator, numero indice, valor real\n",
    "\n",
    "deflat = ipca12\n",
    "df[\"Deflator\"] = deflat\n"
   ]
  },
  {
   "cell_type": "code",
   "execution_count": null,
   "id": "5fcb7841",
   "metadata": {
    "pycharm": {
     "name": "#%%\n"
    }
   },
   "outputs": [],
   "source": []
  }
 ],
 "metadata": {
  "kernelspec": {
   "display_name": "Python 3 (ipykernel)",
   "language": "python",
   "name": "python3"
  },
  "language_info": {
   "codemirror_mode": {
    "name": "ipython",
    "version": 3
   },
   "file_extension": ".py",
   "mimetype": "text/x-python",
   "name": "python",
   "nbconvert_exporter": "python",
   "pygments_lexer": "ipython3",
   "version": "3.10.0"
  }
 },
 "nbformat": 4,
 "nbformat_minor": 5
}
